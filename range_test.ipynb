{
 "cells": [
  {
   "cell_type": "code",
   "execution_count": null,
   "metadata": {},
   "outputs": [],
   "source": [
    "import matplotlib.pyplot as plt                        \n",
    "%matplotlib inline  \n",
    "\n",
    "import numpy as np"
   ]
  },
  {
   "cell_type": "code",
   "execution_count": 21,
   "metadata": {},
   "outputs": [],
   "source": [
    "step = 10\n",
    "start_epoch = 1\n",
    "end_epoch = start_epoch + step\n",
    "\n",
    "start = 1e-07\n",
    "middle = 1e-01\n",
    "end = 1e-08"
   ]
  },
  {
   "cell_type": "code",
   "execution_count": 25,
   "metadata": {},
   "outputs": [
    {
     "name": "stdout",
     "output_type": "stream",
     "text": [
      "1e-07\n",
      "1\n",
      "2\n",
      "3\n",
      "4\n",
      "5\n",
      "6\n",
      "7\n",
      "8\n",
      "9\n",
      "10\n",
      "1e-06\n",
      "11\n",
      "12\n",
      "13\n",
      "14\n",
      "15\n",
      "16\n",
      "17\n",
      "18\n",
      "19\n",
      "20\n",
      "1e-05\n",
      "21\n",
      "22\n",
      "23\n",
      "24\n",
      "25\n",
      "26\n",
      "27\n",
      "28\n",
      "29\n",
      "30\n",
      "0.0001\n",
      "31\n",
      "32\n",
      "33\n",
      "34\n",
      "35\n",
      "36\n",
      "37\n",
      "38\n",
      "39\n",
      "40\n",
      "0.001\n",
      "41\n",
      "42\n",
      "43\n",
      "44\n",
      "45\n",
      "46\n",
      "47\n",
      "48\n",
      "49\n",
      "50\n",
      "0.01\n",
      "51\n",
      "52\n",
      "53\n",
      "54\n",
      "55\n",
      "56\n",
      "57\n",
      "58\n",
      "59\n",
      "60\n"
     ]
    }
   ],
   "source": [
    "lr = start\n",
    "start_epoch = 1\n",
    "while lr < middle:\n",
    "    print(lr)\n",
    "    for epoch in range(step):\n",
    "        print(start_epoch + epoch) \n",
    "    start_epoch += epoch + 1\n",
    "    \n",
    "    lr *= 10\n",
    "    lr = round(lr, 8)"
   ]
  },
  {
   "cell_type": "code",
   "execution_count": 26,
   "metadata": {
    "scrolled": true
   },
   "outputs": [
    {
     "name": "stdout",
     "output_type": "stream",
     "text": [
      "0.1\n"
     ]
    }
   ],
   "source": [
    "print(lr)"
   ]
  },
  {
   "cell_type": "code",
   "execution_count": 27,
   "metadata": {},
   "outputs": [
    {
     "name": "stdout",
     "output_type": "stream",
     "text": [
      "0.1\n",
      "61\n",
      "62\n",
      "63\n",
      "64\n",
      "65\n",
      "66\n",
      "67\n",
      "68\n",
      "69\n",
      "70\n",
      "0.01\n",
      "71\n",
      "72\n",
      "73\n",
      "74\n",
      "75\n",
      "76\n",
      "77\n",
      "78\n",
      "79\n",
      "80\n",
      "0.001\n",
      "81\n",
      "82\n",
      "83\n",
      "84\n",
      "85\n",
      "86\n",
      "87\n",
      "88\n",
      "89\n",
      "90\n",
      "0.0001\n",
      "91\n",
      "92\n",
      "93\n",
      "94\n",
      "95\n",
      "96\n",
      "97\n",
      "98\n",
      "99\n",
      "100\n",
      "1e-05\n",
      "101\n",
      "102\n",
      "103\n",
      "104\n",
      "105\n",
      "106\n",
      "107\n",
      "108\n",
      "109\n",
      "110\n",
      "1e-06\n",
      "111\n",
      "112\n",
      "113\n",
      "114\n",
      "115\n",
      "116\n",
      "117\n",
      "118\n",
      "119\n",
      "120\n",
      "1e-07\n",
      "121\n",
      "122\n",
      "123\n",
      "124\n",
      "125\n",
      "126\n",
      "127\n",
      "128\n",
      "129\n",
      "130\n"
     ]
    }
   ],
   "source": [
    "while lr > end:\n",
    "    print(lr)\n",
    "    for epoch in range(step):\n",
    "        print(start_epoch + epoch) \n",
    "    start_epoch += epoch + 1\n",
    "    \n",
    "    lr *= 1/10\n",
    "    lr = round(lr, 8)"
   ]
  },
  {
   "cell_type": "code",
   "execution_count": 20,
   "metadata": {},
   "outputs": [
    {
     "name": "stdout",
     "output_type": "stream",
     "text": [
      "1e-08\n"
     ]
    }
   ],
   "source": [
    "print(lr)"
   ]
  },
  {
   "cell_type": "code",
   "execution_count": null,
   "metadata": {},
   "outputs": [],
   "source": []
  },
  {
   "cell_type": "code",
   "execution_count": 21,
   "metadata": {},
   "outputs": [],
   "source": [
    "step = 10\n",
    "start_epoch = 1\n",
    "end_epoch = start_epoch + step\n",
    "\n",
    "start = 1e-07\n",
    "middle = 1e-01\n",
    "end = 1e-08"
   ]
  },
  {
   "cell_type": "code",
   "execution_count": 30,
   "metadata": {},
   "outputs": [
    {
     "name": "stdout",
     "output_type": "stream",
     "text": [
      "1e-07\n",
      "1\n",
      "10\n",
      "1e-06\n",
      "11\n",
      "20\n",
      "1e-05\n",
      "21\n",
      "30\n",
      "0.0001\n",
      "31\n",
      "40\n",
      "0.001\n",
      "41\n",
      "50\n",
      "0.01\n",
      "51\n",
      "60\n",
      "0.1\n",
      "61\n",
      "70\n",
      "0.01\n",
      "71\n",
      "80\n",
      "0.001\n",
      "81\n",
      "90\n",
      "0.0001\n",
      "91\n",
      "100\n",
      "1e-05\n",
      "101\n",
      "110\n",
      "1e-06\n",
      "111\n",
      "120\n",
      "1e-07\n",
      "121\n",
      "130\n",
      "1e-08\n",
      "131\n",
      "140\n"
     ]
    }
   ],
   "source": [
    "lr = start\n",
    "start_epoch = 1\n",
    "while lr < middle:\n",
    "    print(lr)\n",
    "    end_epoch = start_epoch + step - 1\n",
    "    print(start_epoch)\n",
    "    print(end_epoch)\n",
    "    start_epoch = end_epoch + 1\n",
    "    \n",
    "    lr *= 10\n",
    "    lr = round(lr, 8)\n",
    "    \n",
    "while lr > end:\n",
    "    print(lr)\n",
    "    end_epoch = start_epoch + step - 1\n",
    "    print(start_epoch)\n",
    "    print(end_epoch)\n",
    "    start_epoch = end_epoch + 1\n",
    "    \n",
    "    lr *= 1/10\n",
    "    lr = round(lr, 8)\n",
    "\n",
    "print(lr)\n",
    "end_epoch = start_epoch + step - 1\n",
    "print(start_epoch)\n",
    "print(end_epoch)\n"
   ]
  },
  {
   "cell_type": "code",
   "execution_count": 26,
   "metadata": {
    "scrolled": true
   },
   "outputs": [
    {
     "name": "stdout",
     "output_type": "stream",
     "text": [
      "0.1\n"
     ]
    }
   ],
   "source": [
    "print(lr)"
   ]
  },
  {
   "cell_type": "code",
   "execution_count": 27,
   "metadata": {},
   "outputs": [
    {
     "name": "stdout",
     "output_type": "stream",
     "text": [
      "0.1\n",
      "61\n",
      "62\n",
      "63\n",
      "64\n",
      "65\n",
      "66\n",
      "67\n",
      "68\n",
      "69\n",
      "70\n",
      "0.01\n",
      "71\n",
      "72\n",
      "73\n",
      "74\n",
      "75\n",
      "76\n",
      "77\n",
      "78\n",
      "79\n",
      "80\n",
      "0.001\n",
      "81\n",
      "82\n",
      "83\n",
      "84\n",
      "85\n",
      "86\n",
      "87\n",
      "88\n",
      "89\n",
      "90\n",
      "0.0001\n",
      "91\n",
      "92\n",
      "93\n",
      "94\n",
      "95\n",
      "96\n",
      "97\n",
      "98\n",
      "99\n",
      "100\n",
      "1e-05\n",
      "101\n",
      "102\n",
      "103\n",
      "104\n",
      "105\n",
      "106\n",
      "107\n",
      "108\n",
      "109\n",
      "110\n",
      "1e-06\n",
      "111\n",
      "112\n",
      "113\n",
      "114\n",
      "115\n",
      "116\n",
      "117\n",
      "118\n",
      "119\n",
      "120\n",
      "1e-07\n",
      "121\n",
      "122\n",
      "123\n",
      "124\n",
      "125\n",
      "126\n",
      "127\n",
      "128\n",
      "129\n",
      "130\n"
     ]
    }
   ],
   "source": [
    "while lr > end:\n",
    "    print(lr)\n",
    "    for epoch in range(step):\n",
    "        print(start_epoch + epoch) \n",
    "    start_epoch += epoch + 1\n",
    "    \n",
    "    lr *= 1/10\n",
    "    lr = round(lr, 8)"
   ]
  },
  {
   "cell_type": "code",
   "execution_count": 20,
   "metadata": {},
   "outputs": [
    {
     "name": "stdout",
     "output_type": "stream",
     "text": [
      "1e-08\n"
     ]
    }
   ],
   "source": [
    "print(lr)"
   ]
  }
 ],
 "metadata": {
  "kernelspec": {
   "display_name": "Python 3",
   "language": "python",
   "name": "python3"
  },
  "language_info": {
   "codemirror_mode": {
    "name": "ipython",
    "version": 3
   },
   "file_extension": ".py",
   "mimetype": "text/x-python",
   "name": "python",
   "nbconvert_exporter": "python",
   "pygments_lexer": "ipython3",
   "version": "3.6.5"
  }
 },
 "nbformat": 4,
 "nbformat_minor": 2
}
